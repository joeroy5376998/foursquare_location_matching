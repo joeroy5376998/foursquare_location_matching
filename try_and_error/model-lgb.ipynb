{
 "cells": [
  {
   "cell_type": "code",
   "execution_count": 1,
   "id": "33a6676e",
   "metadata": {
    "_cell_guid": "b1076dfc-b9ad-4769-8c92-a6c4dae69d19",
    "_uuid": "8f2839f25d086af736a60e9eeb907d3b93b6e0e5",
    "execution": {
     "iopub.execute_input": "2022-05-30T15:35:19.114793Z",
     "iopub.status.busy": "2022-05-30T15:35:19.114346Z",
     "iopub.status.idle": "2022-05-30T15:35:21.346768Z",
     "shell.execute_reply": "2022-05-30T15:35:21.345825Z"
    },
    "papermill": {
     "duration": 2.243007,
     "end_time": "2022-05-30T15:35:21.349178",
     "exception": false,
     "start_time": "2022-05-30T15:35:19.106171",
     "status": "completed"
    },
    "tags": []
   },
   "outputs": [
    {
     "data": {
      "text/html": [
       "<style type='text/css'>\n",
       ".datatable table.frame { margin-bottom: 0; }\n",
       ".datatable table.frame thead { border-bottom: none; }\n",
       ".datatable table.frame tr.coltypes td {  color: #FFFFFF;  line-height: 6px;  padding: 0 0.5em;}\n",
       ".datatable .bool    { background: #DDDD99; }\n",
       ".datatable .object  { background: #565656; }\n",
       ".datatable .int     { background: #5D9E5D; }\n",
       ".datatable .float   { background: #4040CC; }\n",
       ".datatable .str     { background: #CC4040; }\n",
       ".datatable .time    { background: #40CC40; }\n",
       ".datatable .row_index {  background: var(--jp-border-color3);  border-right: 1px solid var(--jp-border-color0);  color: var(--jp-ui-font-color3);  font-size: 9px;}\n",
       ".datatable .frame tbody td { text-align: left; }\n",
       ".datatable .frame tr.coltypes .row_index {  background: var(--jp-border-color0);}\n",
       ".datatable th:nth-child(2) { padding-left: 12px; }\n",
       ".datatable .hellipsis {  color: var(--jp-cell-editor-border-color);}\n",
       ".datatable .vellipsis {  background: var(--jp-layout-color0);  color: var(--jp-cell-editor-border-color);}\n",
       ".datatable .na {  color: var(--jp-cell-editor-border-color);  font-size: 80%;}\n",
       ".datatable .sp {  opacity: 0.25;}\n",
       ".datatable .footer { font-size: 9px; }\n",
       ".datatable .frame_dimensions {  background: var(--jp-border-color3);  border-top: 1px solid var(--jp-border-color0);  color: var(--jp-ui-font-color3);  display: inline-block;  opacity: 0.6;  padding: 1px 10px 1px 5px;}\n",
       "</style>\n"
      ],
      "text/plain": [
       "<IPython.core.display.HTML object>"
      ]
     },
     "metadata": {},
     "output_type": "display_data"
    }
   ],
   "source": [
    "import numpy as np\n",
    "import pandas as pd\n",
    "from tqdm import tqdm\n",
    "from sklearn.neighbors import BallTree\n",
    "from sklearn.model_selection import train_test_split\n",
    "from sklearn.metrics import accuracy_score\n",
    "from sklearn.neighbors import NearestNeighbors\n",
    "from sklearn.neighbors import KNeighborsRegressor\n",
    "import Levenshtein\n",
    "import difflib\n",
    "import lightgbm as lgb\n",
    "import collections\n",
    "from haversine import haversine"
   ]
  },
  {
   "cell_type": "code",
   "execution_count": 2,
   "id": "4752b3f4",
   "metadata": {
    "execution": {
     "iopub.execute_input": "2022-05-30T15:35:21.361352Z",
     "iopub.status.busy": "2022-05-30T15:35:21.360939Z",
     "iopub.status.idle": "2022-05-30T15:35:21.393823Z",
     "shell.execute_reply": "2022-05-30T15:35:21.392850Z"
    },
    "papermill": {
     "duration": 0.041413,
     "end_time": "2022-05-30T15:35:21.396008",
     "exception": false,
     "start_time": "2022-05-30T15:35:21.354595",
     "status": "completed"
    },
    "tags": []
   },
   "outputs": [
    {
     "data": {
      "text/html": [
       "<div>\n",
       "<style scoped>\n",
       "    .dataframe tbody tr th:only-of-type {\n",
       "        vertical-align: middle;\n",
       "    }\n",
       "\n",
       "    .dataframe tbody tr th {\n",
       "        vertical-align: top;\n",
       "    }\n",
       "\n",
       "    .dataframe thead th {\n",
       "        text-align: right;\n",
       "    }\n",
       "</style>\n",
       "<table border=\"1\" class=\"dataframe\">\n",
       "  <thead>\n",
       "    <tr style=\"text-align: right;\">\n",
       "      <th></th>\n",
       "      <th>id</th>\n",
       "      <th>matches</th>\n",
       "    </tr>\n",
       "  </thead>\n",
       "  <tbody>\n",
       "    <tr>\n",
       "      <th>0</th>\n",
       "      <td>E_00001118ad0191</td>\n",
       "      <td>E_00001118ad0191</td>\n",
       "    </tr>\n",
       "    <tr>\n",
       "      <th>1</th>\n",
       "      <td>E_000020eb6fed40</td>\n",
       "      <td>E_000020eb6fed40</td>\n",
       "    </tr>\n",
       "    <tr>\n",
       "      <th>2</th>\n",
       "      <td>E_00002f98667edf</td>\n",
       "      <td>E_00002f98667edf</td>\n",
       "    </tr>\n",
       "    <tr>\n",
       "      <th>3</th>\n",
       "      <td>E_001b6bad66eb98</td>\n",
       "      <td>E_001b6bad66eb98 E_0283d9f61e569d</td>\n",
       "    </tr>\n",
       "    <tr>\n",
       "      <th>4</th>\n",
       "      <td>E_0283d9f61e569d</td>\n",
       "      <td>E_0283d9f61e569d E_001b6bad66eb98</td>\n",
       "    </tr>\n",
       "  </tbody>\n",
       "</table>\n",
       "</div>"
      ],
      "text/plain": [
       "                 id                            matches\n",
       "0  E_00001118ad0191                   E_00001118ad0191\n",
       "1  E_000020eb6fed40                   E_000020eb6fed40\n",
       "2  E_00002f98667edf                   E_00002f98667edf\n",
       "3  E_001b6bad66eb98  E_001b6bad66eb98 E_0283d9f61e569d\n",
       "4  E_0283d9f61e569d  E_0283d9f61e569d E_001b6bad66eb98"
      ]
     },
     "execution_count": 2,
     "metadata": {},
     "output_type": "execute_result"
    }
   ],
   "source": [
    "# read data\n",
    "test = pd.read_csv('../input/foursquare-location-matching/test.csv')\n",
    "sample_submission = pd.read_csv('../input/foursquare-location-matching/sample_submission.csv')\n",
    "model_weights = '../input/lgbm-weights/lgb_model.txt'\n",
    "sample_submission.head(5)"
   ]
  },
  {
   "cell_type": "code",
   "execution_count": 3,
   "id": "68338647",
   "metadata": {
    "execution": {
     "iopub.execute_input": "2022-05-30T15:35:21.408670Z",
     "iopub.status.busy": "2022-05-30T15:35:21.407297Z",
     "iopub.status.idle": "2022-05-30T15:35:22.434320Z",
     "shell.execute_reply": "2022-05-30T15:35:22.433164Z"
    },
    "papermill": {
     "duration": 1.035815,
     "end_time": "2022-05-30T15:35:22.437026",
     "exception": false,
     "start_time": "2022-05-30T15:35:21.401211",
     "status": "completed"
    },
    "tags": []
   },
   "outputs": [],
   "source": [
    "%load_ext Cython"
   ]
  },
  {
   "cell_type": "code",
   "execution_count": 4,
   "id": "4e2fb50e",
   "metadata": {
    "execution": {
     "iopub.execute_input": "2022-05-30T15:35:22.449152Z",
     "iopub.status.busy": "2022-05-30T15:35:22.448752Z",
     "iopub.status.idle": "2022-05-30T15:35:23.942149Z",
     "shell.execute_reply": "2022-05-30T15:35:23.940646Z"
    },
    "papermill": {
     "duration": 1.502511,
     "end_time": "2022-05-30T15:35:23.944737",
     "exception": false,
     "start_time": "2022-05-30T15:35:22.442226",
     "status": "completed"
    },
    "tags": []
   },
   "outputs": [],
   "source": [
    "%%cython\n",
    "def LCS(str S, str T):\n",
    "    cdef int i, j\n",
    "    cdef list dp = [[0] * (len(T) + 1) for _ in range(len(S) + 1)]\n",
    "    for i in range(len(S)):\n",
    "        for j in range(len(T)):\n",
    "            dp[i + 1][j + 1] = max(dp[i][j] + (S[i] == T[j]), dp[i + 1][j], dp[i][j + 1], dp[i + 1][j + 1])\n",
    "    return dp[len(S)][len(T)]"
   ]
  },
  {
   "cell_type": "code",
   "execution_count": 5,
   "id": "f7c79762",
   "metadata": {
    "execution": {
     "iopub.execute_input": "2022-05-30T15:35:23.958113Z",
     "iopub.status.busy": "2022-05-30T15:35:23.957444Z",
     "iopub.status.idle": "2022-05-30T15:35:23.985370Z",
     "shell.execute_reply": "2022-05-30T15:35:23.984371Z"
    },
    "papermill": {
     "duration": 0.037963,
     "end_time": "2022-05-30T15:35:23.987993",
     "exception": false,
     "start_time": "2022-05-30T15:35:23.950030",
     "status": "completed"
    },
    "tags": []
   },
   "outputs": [],
   "source": [
    "def init_data(df,knn_data):\n",
    "    ids = []\n",
    "    match_ids = []\n",
    "    \n",
    "    for k in tqdm(knn_data.keys()):\n",
    "        for m in knn_data.get(k):\n",
    "            ids.append(k)\n",
    "            match_ids.append(m)\n",
    "    \n",
    "    df['id'] = ids\n",
    "    df['match_id'] = match_ids\n",
    "    \n",
    "    # add knn haversine distance\n",
    "    id_1 = [test.loc[df.id].latitude.values,test.loc[df.id].longitude.values]\n",
    "    id_2 = [test.loc[df.match_id].latitude.values,test.loc[df.match_id].longitude.values]\n",
    "    dist = []\n",
    "    for i in tqdm(range(len(id_1[0]))):\n",
    "        a = [id_1[0][i],id_1[1][i]]\n",
    "        b = [id_2[0][i],id_2[1][i]]\n",
    "        dist.append(haversine(a,b))\n",
    "\n",
    "    df['dist'] = dist\n",
    "    \n",
    "    del id_1[:]\n",
    "    del id_1\n",
    "    del id_2[:]\n",
    "    del id_2\n",
    "    del dist[:]\n",
    "    del dist\n",
    "    del ids[:]\n",
    "    del ids\n",
    "    del match_ids[:]\n",
    "    del match_ids\n",
    "        \n",
    "    return df\n",
    "\n",
    "def add_features(df,features_col): # df for train_data, data for original train.csv\n",
    "    \n",
    "    # word feature similarity\n",
    "    for col in features_col:\n",
    "        print('column:',col)\n",
    "        \n",
    "        geshs = []\n",
    "        levens = []\n",
    "        jaros = []\n",
    "        lcss = []\n",
    "        \n",
    "        col_values = test.loc[df['id']][col].values.astype(str)\n",
    "        matcol_values = test.loc[df['match_id']][col].values.astype(str)\n",
    "        \n",
    "        for i in tqdm(range(len(col_values))):\n",
    "            s = col_values[i]\n",
    "            match_s = matcol_values[i]\n",
    "            if s != 'nan' and match_s != 'nan':                    \n",
    "                geshs.append(difflib.SequenceMatcher(None, s, match_s).ratio())\n",
    "                levens.append(Levenshtein.distance(s, match_s))\n",
    "                jaros.append(Levenshtein.jaro_winkler(s, match_s))\n",
    "                lcss.append(LCS(str(s), str(match_s)))\n",
    "            else:\n",
    "                geshs.append(np.nan)\n",
    "                levens.append(np.nan)\n",
    "                jaros.append(np.nan)\n",
    "                lcss.append(np.nan)\n",
    "                \n",
    "        df[f'{col}_gesh'] = geshs\n",
    "        df[f'{col}_leven'] = levens\n",
    "        df[f'{col}_jaro'] = jaros\n",
    "        df[f'{col}_lcs'] = lcss\n",
    "        \n",
    "        # features about string length\n",
    "        if col in ['name','country','categories']:\n",
    "            df[f'{col}_len'] = list(map(len, col_values))\n",
    "            df[f'match_{col}_len'] = list(map(len, matcol_values)) \n",
    "            df[f'{col}_len_diff'] = np.abs(df[f'{col}_len'] - df[f'match_{col}_len'])\n",
    "            df[f'{col}_nleven'] = df[f'{col}_leven'] / df[[f'{col}_len', f'match_{col}_len']].max(axis = 1)\n",
    "\n",
    "            df[f'{col}_nlcsk'] = df[f'{col}_lcs'] / df[f'match_{col}_len']\n",
    "            df[f'{col}_nlcs'] = df[f'{col}_lcs'] / df[f'{col}_len']\n",
    "\n",
    "            df = df.drop(f'{col}_len', axis = 1)\n",
    "            df = df.drop(f'match_{col}_len', axis = 1)\n",
    "            \n",
    "        # reduce memory usage\n",
    "        # int64 to unit8\n",
    "        df_int = df.select_dtypes(include=['int'])\n",
    "        converted_int = df_int.apply(pd.to_numeric,downcast='unsigned')\n",
    "        for cc in df_int.columns:\n",
    "            df[cc] = converted_int[cc]\n",
    "        # float64 to float32\n",
    "        df_float = df.select_dtypes(include=['float'])\n",
    "        converted_float = df_float.apply(pd.to_numeric,downcast='float')\n",
    "        for cc in df_float.columns:\n",
    "            df[cc] = converted_float[cc]\n",
    "        \n",
    "        # clear memory usage of list\n",
    "        del col_values\n",
    "        del matcol_values\n",
    "        del geshs[:]\n",
    "        del geshs\n",
    "        del levens[:]\n",
    "        del levens\n",
    "        del jaros[:]\n",
    "        del jaros\n",
    "        del lcss[:]\n",
    "        del lcss\n",
    "        \n",
    "    return df"
   ]
  },
  {
   "cell_type": "code",
   "execution_count": 6,
   "id": "52ef3d1c",
   "metadata": {
    "execution": {
     "iopub.execute_input": "2022-05-30T15:35:24.000966Z",
     "iopub.status.busy": "2022-05-30T15:35:24.000167Z",
     "iopub.status.idle": "2022-05-30T15:35:24.008775Z",
     "shell.execute_reply": "2022-05-30T15:35:24.007946Z"
    },
    "papermill": {
     "duration": 0.017586,
     "end_time": "2022-05-30T15:35:24.010980",
     "exception": false,
     "start_time": "2022-05-30T15:35:23.993394",
     "status": "completed"
    },
    "tags": []
   },
   "outputs": [],
   "source": [
    "def find_neighbors(df,neighbors):\n",
    "    knn = {} # dictionary, key=id, value=[neighbors ids]\n",
    "    knn_dist = []\n",
    "    rads = np.deg2rad(df[['latitude', 'longitude']].values)\n",
    "    tree = BallTree(rads, metric='haversine')\n",
    "    for i in tqdm(range(len(df))):\n",
    "        dist, ind = tree.query(rads[i].reshape(1, -1), k = neighbors)\n",
    "        neighbors_list = []\n",
    "        \n",
    "        for index in ind[0]:\n",
    "            neighbors_list.append(df['id'].loc[index])\n",
    "            \n",
    "        for d in dist[0]:\n",
    "            knn_dist.append(d)\n",
    "        \n",
    "        knn[df['id'].loc[i]] = neighbors_list\n",
    "        \n",
    "    return knn, knn_dist"
   ]
  },
  {
   "cell_type": "markdown",
   "id": "190aaba6",
   "metadata": {
    "papermill": {
     "duration": 0.004882,
     "end_time": "2022-05-30T15:35:24.021570",
     "exception": false,
     "start_time": "2022-05-30T15:35:24.016688",
     "status": "completed"
    },
    "tags": []
   },
   "source": [
    "## Generate model input"
   ]
  },
  {
   "cell_type": "code",
   "execution_count": 7,
   "id": "9d10cf64",
   "metadata": {
    "execution": {
     "iopub.execute_input": "2022-05-30T15:35:24.033808Z",
     "iopub.status.busy": "2022-05-30T15:35:24.033207Z",
     "iopub.status.idle": "2022-05-30T15:35:24.056114Z",
     "shell.execute_reply": "2022-05-30T15:35:24.055426Z"
    },
    "papermill": {
     "duration": 0.032297,
     "end_time": "2022-05-30T15:35:24.059048",
     "exception": false,
     "start_time": "2022-05-30T15:35:24.026751",
     "status": "completed"
    },
    "tags": []
   },
   "outputs": [
    {
     "name": "stderr",
     "output_type": "stream",
     "text": [
      "100%|██████████| 5/5 [00:00<00:00, 1363.38it/s]\n"
     ]
    }
   ],
   "source": [
    "neighbors = min(len(test),10)\n",
    "knn_data, knn_dist = find_neighbors(test,neighbors)"
   ]
  },
  {
   "cell_type": "code",
   "execution_count": 8,
   "id": "3ad81635",
   "metadata": {
    "execution": {
     "iopub.execute_input": "2022-05-30T15:35:24.073656Z",
     "iopub.status.busy": "2022-05-30T15:35:24.072756Z",
     "iopub.status.idle": "2022-05-30T15:35:24.101193Z",
     "shell.execute_reply": "2022-05-30T15:35:24.100144Z"
    },
    "papermill": {
     "duration": 0.036953,
     "end_time": "2022-05-30T15:35:24.103215",
     "exception": false,
     "start_time": "2022-05-30T15:35:24.066262",
     "status": "completed"
    },
    "tags": []
   },
   "outputs": [
    {
     "name": "stderr",
     "output_type": "stream",
     "text": [
      "100%|██████████| 5/5 [00:00<00:00, 45100.04it/s]\n",
      "100%|██████████| 25/25 [00:00<00:00, 42145.34it/s]\n"
     ]
    }
   ],
   "source": [
    "# generate training data\n",
    "test_data = pd.DataFrame()\n",
    "features_col = ['name','categories','address','state','city','country','url','zip','phone']\n",
    "\n",
    "# fill nan values in train.csv\n",
    "# fill nan\n",
    "for col in features_col:\n",
    "    test[col].fillna('nan',inplace=True)\n",
    "test.set_index('id',inplace=True)\n",
    "\n",
    "test_data = init_data(test_data, knn_data)\n",
    "#test_data = add_features(test_data,features_col)"
   ]
  },
  {
   "cell_type": "code",
   "execution_count": 9,
   "id": "c015328a",
   "metadata": {
    "execution": {
     "iopub.execute_input": "2022-05-30T15:35:24.117110Z",
     "iopub.status.busy": "2022-05-30T15:35:24.116353Z",
     "iopub.status.idle": "2022-05-30T15:35:24.122581Z",
     "shell.execute_reply": "2022-05-30T15:35:24.121738Z"
    },
    "papermill": {
     "duration": 0.015614,
     "end_time": "2022-05-30T15:35:24.124643",
     "exception": false,
     "start_time": "2022-05-30T15:35:24.109029",
     "status": "completed"
    },
    "tags": []
   },
   "outputs": [],
   "source": [
    "# split data\n",
    "n = 3\n",
    "data_split = np.array_split(test_data,n)"
   ]
  },
  {
   "cell_type": "code",
   "execution_count": 10,
   "id": "421eac26",
   "metadata": {
    "execution": {
     "iopub.execute_input": "2022-05-30T15:35:24.138738Z",
     "iopub.status.busy": "2022-05-30T15:35:24.137765Z",
     "iopub.status.idle": "2022-05-30T15:35:24.694593Z",
     "shell.execute_reply": "2022-05-30T15:35:24.693580Z"
    },
    "papermill": {
     "duration": 0.569381,
     "end_time": "2022-05-30T15:35:24.700082",
     "exception": false,
     "start_time": "2022-05-30T15:35:24.130701",
     "status": "completed"
    },
    "tags": []
   },
   "outputs": [
    {
     "name": "stdout",
     "output_type": "stream",
     "text": [
      "column: name\n"
     ]
    },
    {
     "name": "stderr",
     "output_type": "stream",
     "text": [
      "100%|██████████| 9/9 [00:00<00:00, 3413.70it/s]\n"
     ]
    },
    {
     "name": "stdout",
     "output_type": "stream",
     "text": [
      "column: categories\n"
     ]
    },
    {
     "name": "stderr",
     "output_type": "stream",
     "text": [
      "100%|██████████| 9/9 [00:00<00:00, 14914.55it/s]\n"
     ]
    },
    {
     "name": "stdout",
     "output_type": "stream",
     "text": [
      "column: address\n"
     ]
    },
    {
     "name": "stderr",
     "output_type": "stream",
     "text": [
      "100%|██████████| 9/9 [00:00<00:00, 18586.28it/s]\n"
     ]
    },
    {
     "name": "stdout",
     "output_type": "stream",
     "text": [
      "column: state\n"
     ]
    },
    {
     "name": "stderr",
     "output_type": "stream",
     "text": [
      "100%|██████████| 9/9 [00:00<00:00, 59074.70it/s]\n"
     ]
    },
    {
     "name": "stdout",
     "output_type": "stream",
     "text": [
      "column: city\n"
     ]
    },
    {
     "name": "stderr",
     "output_type": "stream",
     "text": [
      "100%|██████████| 9/9 [00:00<00:00, 26905.73it/s]\n"
     ]
    },
    {
     "name": "stdout",
     "output_type": "stream",
     "text": [
      "column: country\n"
     ]
    },
    {
     "name": "stderr",
     "output_type": "stream",
     "text": [
      "100%|██████████| 9/9 [00:00<00:00, 21041.66it/s]\n"
     ]
    },
    {
     "name": "stdout",
     "output_type": "stream",
     "text": [
      "column: url\n"
     ]
    },
    {
     "name": "stderr",
     "output_type": "stream",
     "text": [
      "100%|██████████| 9/9 [00:00<00:00, 62601.55it/s]\n"
     ]
    },
    {
     "name": "stdout",
     "output_type": "stream",
     "text": [
      "column: zip\n"
     ]
    },
    {
     "name": "stderr",
     "output_type": "stream",
     "text": [
      "100%|██████████| 9/9 [00:00<00:00, 41896.49it/s]\n"
     ]
    },
    {
     "name": "stdout",
     "output_type": "stream",
     "text": [
      "column: phone\n"
     ]
    },
    {
     "name": "stderr",
     "output_type": "stream",
     "text": [
      "100%|██████████| 9/9 [00:00<00:00, 74898.29it/s]\n"
     ]
    },
    {
     "name": "stdout",
     "output_type": "stream",
     "text": [
      "column: name\n"
     ]
    },
    {
     "name": "stderr",
     "output_type": "stream",
     "text": [
      "100%|██████████| 8/8 [00:00<00:00, 6856.24it/s]\n"
     ]
    },
    {
     "name": "stdout",
     "output_type": "stream",
     "text": [
      "column: categories\n"
     ]
    },
    {
     "name": "stderr",
     "output_type": "stream",
     "text": [
      "100%|██████████| 8/8 [00:00<00:00, 16685.45it/s]\n"
     ]
    },
    {
     "name": "stdout",
     "output_type": "stream",
     "text": [
      "column: address\n"
     ]
    },
    {
     "name": "stderr",
     "output_type": "stream",
     "text": [
      "100%|██████████| 8/8 [00:00<00:00, 8701.88it/s]\n"
     ]
    },
    {
     "name": "stdout",
     "output_type": "stream",
     "text": [
      "column: state\n"
     ]
    },
    {
     "name": "stderr",
     "output_type": "stream",
     "text": [
      "100%|██████████| 8/8 [00:00<00:00, 30039.78it/s]\n"
     ]
    },
    {
     "name": "stdout",
     "output_type": "stream",
     "text": [
      "column: city\n"
     ]
    },
    {
     "name": "stderr",
     "output_type": "stream",
     "text": [
      "100%|██████████| 8/8 [00:00<00:00, 19831.22it/s]\n"
     ]
    },
    {
     "name": "stdout",
     "output_type": "stream",
     "text": [
      "column: country\n"
     ]
    },
    {
     "name": "stderr",
     "output_type": "stream",
     "text": [
      "100%|██████████| 8/8 [00:00<00:00, 16989.59it/s]\n"
     ]
    },
    {
     "name": "stdout",
     "output_type": "stream",
     "text": [
      "column: url\n"
     ]
    },
    {
     "name": "stderr",
     "output_type": "stream",
     "text": [
      "100%|██████████| 8/8 [00:00<00:00, 25991.04it/s]\n"
     ]
    },
    {
     "name": "stdout",
     "output_type": "stream",
     "text": [
      "column: zip\n"
     ]
    },
    {
     "name": "stderr",
     "output_type": "stream",
     "text": [
      "100%|██████████| 8/8 [00:00<00:00, 32640.50it/s]\n"
     ]
    },
    {
     "name": "stdout",
     "output_type": "stream",
     "text": [
      "column: phone\n"
     ]
    },
    {
     "name": "stderr",
     "output_type": "stream",
     "text": [
      "100%|██████████| 8/8 [00:00<00:00, 25536.10it/s]\n"
     ]
    },
    {
     "name": "stdout",
     "output_type": "stream",
     "text": [
      "column: name\n"
     ]
    },
    {
     "name": "stderr",
     "output_type": "stream",
     "text": [
      "100%|██████████| 8/8 [00:00<00:00, 5101.01it/s]\n"
     ]
    },
    {
     "name": "stdout",
     "output_type": "stream",
     "text": [
      "column: categories\n"
     ]
    },
    {
     "name": "stderr",
     "output_type": "stream",
     "text": [
      "100%|██████████| 8/8 [00:00<00:00, 9409.54it/s]\n"
     ]
    },
    {
     "name": "stdout",
     "output_type": "stream",
     "text": [
      "column: address\n"
     ]
    },
    {
     "name": "stderr",
     "output_type": "stream",
     "text": [
      "100%|██████████| 8/8 [00:00<00:00, 8095.16it/s]\n"
     ]
    },
    {
     "name": "stdout",
     "output_type": "stream",
     "text": [
      "column: state\n"
     ]
    },
    {
     "name": "stderr",
     "output_type": "stream",
     "text": [
      "100%|██████████| 8/8 [00:00<00:00, 19854.69it/s]"
     ]
    },
    {
     "name": "stdout",
     "output_type": "stream",
     "text": [
      "column:"
     ]
    },
    {
     "name": "stderr",
     "output_type": "stream",
     "text": [
      "\n"
     ]
    },
    {
     "name": "stdout",
     "output_type": "stream",
     "text": [
      " city\n"
     ]
    },
    {
     "name": "stderr",
     "output_type": "stream",
     "text": [
      "100%|██████████| 8/8 [00:00<00:00, 16929.58it/s]\n"
     ]
    },
    {
     "name": "stdout",
     "output_type": "stream",
     "text": [
      "column: country\n"
     ]
    },
    {
     "name": "stderr",
     "output_type": "stream",
     "text": [
      "100%|██████████| 8/8 [00:00<00:00, 13871.20it/s]\n"
     ]
    },
    {
     "name": "stdout",
     "output_type": "stream",
     "text": [
      "column: url\n"
     ]
    },
    {
     "name": "stderr",
     "output_type": "stream",
     "text": [
      "100%|██████████| 8/8 [00:00<00:00, 40329.85it/s]\n"
     ]
    },
    {
     "name": "stdout",
     "output_type": "stream",
     "text": [
      "column: zip\n"
     ]
    },
    {
     "name": "stderr",
     "output_type": "stream",
     "text": [
      "100%|██████████| 8/8 [00:00<00:00, 35172.36it/s]\n"
     ]
    },
    {
     "name": "stdout",
     "output_type": "stream",
     "text": [
      "column: phone\n"
     ]
    },
    {
     "name": "stderr",
     "output_type": "stream",
     "text": [
      "100%|██████████| 8/8 [00:00<00:00, 51941.85it/s]\n"
     ]
    }
   ],
   "source": [
    "model_load = lgb.Booster(model_file=model_weights)\n",
    "pred = []\n",
    "for nn in range(n):\n",
    "    test_data = add_features(data_split[nn], features_col)\n",
    "    X_test = test_data.drop(columns=['id','match_id'])\n",
    "    X_test = X_test.to_numpy()\n",
    "    temp_pred = model_load.predict(X_test) # return probability\n",
    "    for i in temp_pred:\n",
    "        pred.append(i)"
   ]
  },
  {
   "cell_type": "markdown",
   "id": "4389ebd5",
   "metadata": {
    "papermill": {
     "duration": 0.01384,
     "end_time": "2022-05-30T15:35:24.729697",
     "exception": false,
     "start_time": "2022-05-30T15:35:24.715857",
     "status": "completed"
    },
    "tags": []
   },
   "source": [
    "## Write predicted result into submission.csv"
   ]
  },
  {
   "cell_type": "code",
   "execution_count": 11,
   "id": "1913dcd3",
   "metadata": {
    "execution": {
     "iopub.execute_input": "2022-05-30T15:35:24.759289Z",
     "iopub.status.busy": "2022-05-30T15:35:24.758902Z",
     "iopub.status.idle": "2022-05-30T15:35:24.782912Z",
     "shell.execute_reply": "2022-05-30T15:35:24.781679Z"
    },
    "papermill": {
     "duration": 0.041779,
     "end_time": "2022-05-30T15:35:24.785187",
     "exception": false,
     "start_time": "2022-05-30T15:35:24.743408",
     "status": "completed"
    },
    "tags": []
   },
   "outputs": [
    {
     "name": "stderr",
     "output_type": "stream",
     "text": [
      "100%|██████████| 5/5 [00:00<00:00, 31631.25it/s]\n"
     ]
    },
    {
     "data": {
      "text/html": [
       "<div>\n",
       "<style scoped>\n",
       "    .dataframe tbody tr th:only-of-type {\n",
       "        vertical-align: middle;\n",
       "    }\n",
       "\n",
       "    .dataframe tbody tr th {\n",
       "        vertical-align: top;\n",
       "    }\n",
       "\n",
       "    .dataframe thead th {\n",
       "        text-align: right;\n",
       "    }\n",
       "</style>\n",
       "<table border=\"1\" class=\"dataframe\">\n",
       "  <thead>\n",
       "    <tr style=\"text-align: right;\">\n",
       "      <th></th>\n",
       "      <th>id</th>\n",
       "      <th>matches</th>\n",
       "    </tr>\n",
       "  </thead>\n",
       "  <tbody>\n",
       "    <tr>\n",
       "      <th>0</th>\n",
       "      <td>E_00001118ad0191</td>\n",
       "      <td>E_00001118ad0191 E_001b6bad66eb98 E_000020eb6f...</td>\n",
       "    </tr>\n",
       "    <tr>\n",
       "      <th>1</th>\n",
       "      <td>E_000020eb6fed40</td>\n",
       "      <td>E_000020eb6fed40 E_00001118ad0191</td>\n",
       "    </tr>\n",
       "    <tr>\n",
       "      <th>2</th>\n",
       "      <td>E_00002f98667edf</td>\n",
       "      <td>E_00002f98667edf</td>\n",
       "    </tr>\n",
       "    <tr>\n",
       "      <th>3</th>\n",
       "      <td>E_001b6bad66eb98</td>\n",
       "      <td>E_001b6bad66eb98 E_00001118ad0191</td>\n",
       "    </tr>\n",
       "    <tr>\n",
       "      <th>4</th>\n",
       "      <td>E_0283d9f61e569d</td>\n",
       "      <td>E_0283d9f61e569d</td>\n",
       "    </tr>\n",
       "  </tbody>\n",
       "</table>\n",
       "</div>"
      ],
      "text/plain": [
       "                 id                                            matches\n",
       "0  E_00001118ad0191  E_00001118ad0191 E_001b6bad66eb98 E_000020eb6f...\n",
       "1  E_000020eb6fed40                 E_000020eb6fed40 E_00001118ad0191 \n",
       "2  E_00002f98667edf                                  E_00002f98667edf \n",
       "3  E_001b6bad66eb98                 E_001b6bad66eb98 E_00001118ad0191 \n",
       "4  E_0283d9f61e569d                                  E_0283d9f61e569d "
      ]
     },
     "execution_count": 11,
     "metadata": {},
     "output_type": "execute_result"
    }
   ],
   "source": [
    "output = pd.DataFrame()\n",
    "i = 0\n",
    "threshold = 0.95\n",
    "matches = []\n",
    "\n",
    "for k in tqdm(knn_data.keys()):\n",
    "    temp = str()\n",
    "    for m in knn_data.get(k):\n",
    "        if pred[i] >= threshold:\n",
    "            temp = temp + m + ' '\n",
    "        i += 1\n",
    "        \n",
    "    matches.append(temp)\n",
    "\n",
    "test = pd.read_csv('../input/foursquare-location-matching/test.csv')\n",
    "output['id'] = test['id']\n",
    "output['matches'] = matches\n",
    "output.head(5)"
   ]
  },
  {
   "cell_type": "code",
   "execution_count": 12,
   "id": "e3ea0994",
   "metadata": {
    "execution": {
     "iopub.execute_input": "2022-05-30T15:35:24.815569Z",
     "iopub.status.busy": "2022-05-30T15:35:24.814913Z",
     "iopub.status.idle": "2022-05-30T15:35:24.822427Z",
     "shell.execute_reply": "2022-05-30T15:35:24.821633Z"
    },
    "papermill": {
     "duration": 0.025019,
     "end_time": "2022-05-30T15:35:24.824496",
     "exception": false,
     "start_time": "2022-05-30T15:35:24.799477",
     "status": "completed"
    },
    "tags": []
   },
   "outputs": [
    {
     "name": "stdout",
     "output_type": "stream",
     "text": [
      "done\n"
     ]
    }
   ],
   "source": [
    "output.to_csv('submission.csv',index=False)\n",
    "print('done')"
   ]
  }
 ],
 "metadata": {
  "kernelspec": {
   "display_name": "Python 3",
   "language": "python",
   "name": "python3"
  },
  "language_info": {
   "codemirror_mode": {
    "name": "ipython",
    "version": 3
   },
   "file_extension": ".py",
   "mimetype": "text/x-python",
   "name": "python",
   "nbconvert_exporter": "python",
   "pygments_lexer": "ipython3",
   "version": "3.7.12"
  },
  "papermill": {
   "default_parameters": {},
   "duration": 16.892259,
   "end_time": "2022-05-30T15:35:25.760054",
   "environment_variables": {},
   "exception": null,
   "input_path": "__notebook__.ipynb",
   "output_path": "__notebook__.ipynb",
   "parameters": {},
   "start_time": "2022-05-30T15:35:08.867795",
   "version": "2.3.4"
  }
 },
 "nbformat": 4,
 "nbformat_minor": 5
}
