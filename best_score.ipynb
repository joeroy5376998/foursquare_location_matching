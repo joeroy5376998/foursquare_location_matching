{
 "cells": [
  {
   "cell_type": "code",
   "execution_count": 1,
   "id": "c54f4b04",
   "metadata": {
    "execution": {
     "iopub.execute_input": "2022-06-04T07:51:41.552194Z",
     "iopub.status.busy": "2022-06-04T07:51:41.551522Z",
     "iopub.status.idle": "2022-06-04T07:51:41.562665Z",
     "shell.execute_reply": "2022-06-04T07:51:41.562132Z"
    },
    "papermill": {
     "duration": 0.033602,
     "end_time": "2022-06-04T07:51:41.564635",
     "exception": false,
     "start_time": "2022-06-04T07:51:41.531033",
     "status": "completed"
    },
    "tags": []
   },
   "outputs": [],
   "source": [
    "UTIL_PATH = \"../input/4sq-catboost-models\"\n",
    "DF_PATH = \"../input/foursquare-location-matching/test.csv\"\n",
    "SUB_PATH = \"../input/foursquare-location-matching/sample_submission.csv\""
   ]
  },
  {
   "cell_type": "code",
   "execution_count": 2,
   "id": "de600db0",
   "metadata": {
    "execution": {
     "iopub.execute_input": "2022-06-04T07:51:41.602283Z",
     "iopub.status.busy": "2022-06-04T07:51:41.602027Z",
     "iopub.status.idle": "2022-06-04T07:51:43.679731Z",
     "shell.execute_reply": "2022-06-04T07:51:43.678848Z"
    },
    "papermill": {
     "duration": 2.098793,
     "end_time": "2022-06-04T07:51:43.682097",
     "exception": false,
     "start_time": "2022-06-04T07:51:41.583304",
     "status": "completed"
    },
    "tags": []
   },
   "outputs": [
    {
     "name": "stderr",
     "output_type": "stream",
     "text": [
      "Intel(R) Extension for Scikit-learn* enabled (https://github.com/intel/scikit-learn-intelex)\n"
     ]
    }
   ],
   "source": [
    "import numpy as np\n",
    "import pandas as pd\n",
    "\n",
    "import sys\n",
    "sys.path.insert(0, UTIL_PATH) \n",
    "\n",
    "from fsq_utils import *\n",
    "\n",
    "\n",
    "from catboost import CatBoostClassifier\n",
    "from tqdm import tqdm"
   ]
  },
  {
   "cell_type": "markdown",
   "id": "f7edf5ca",
   "metadata": {
    "papermill": {
     "duration": 0.019083,
     "end_time": "2022-06-04T07:51:43.720622",
     "exception": false,
     "start_time": "2022-06-04T07:51:43.701539",
     "status": "completed"
    },
    "tags": []
   },
   "source": [
    "## Extracting Nearest Neighbors"
   ]
  },
  {
   "cell_type": "code",
   "execution_count": 3,
   "id": "c0b2fc60",
   "metadata": {
    "execution": {
     "iopub.execute_input": "2022-06-04T07:51:43.759699Z",
     "iopub.status.busy": "2022-06-04T07:51:43.759277Z",
     "iopub.status.idle": "2022-06-04T07:51:43.907593Z",
     "shell.execute_reply": "2022-06-04T07:51:43.907016Z"
    },
    "papermill": {
     "duration": 0.170297,
     "end_time": "2022-06-04T07:51:43.909626",
     "exception": false,
     "start_time": "2022-06-04T07:51:43.739329",
     "status": "completed"
    },
    "tags": []
   },
   "outputs": [],
   "source": [
    "df = pd.read_csv(DF_PATH).reset_index()\n",
    "coo_cols = [\"latitude\", \"longitude\"]\n",
    "\n",
    "N = 26 if len(df)>30000 else 2\n",
    "\n",
    "distances, indices = calc_dists_and_indices(df=df,\n",
    "                                            N=N,\n",
    "                                            cols=coo_cols)"
   ]
  },
  {
   "cell_type": "markdown",
   "id": "2d319bc4",
   "metadata": {
    "papermill": {
     "duration": 0.018064,
     "end_time": "2022-06-04T07:51:43.947251",
     "exception": false,
     "start_time": "2022-06-04T07:51:43.929187",
     "status": "completed"
    },
    "tags": []
   },
   "source": [
    "## Extracting Essential Similarities"
   ]
  },
  {
   "cell_type": "code",
   "execution_count": 4,
   "id": "bc765dc2",
   "metadata": {
    "execution": {
     "iopub.execute_input": "2022-06-04T07:51:43.985832Z",
     "iopub.status.busy": "2022-06-04T07:51:43.985407Z",
     "iopub.status.idle": "2022-06-04T07:51:44.079241Z",
     "shell.execute_reply": "2022-06-04T07:51:44.078601Z"
    },
    "papermill": {
     "duration": 0.115325,
     "end_time": "2022-06-04T07:51:44.081143",
     "exception": false,
     "start_time": "2022-06-04T07:51:43.965818",
     "status": "completed"
    },
    "tags": []
   },
   "outputs": [
    {
     "name": "stdout",
     "output_type": "stream",
     "text": [
      "address (5, 51)\n",
      "url (5, 19)\n",
      "phone (5, 16)\n",
      "name (5, 73)\n",
      "categories (5, 5)\n"
     ]
    },
    {
     "data": {
      "application/vnd.jupyter.widget-view+json": {
       "model_id": "14ca9e8c90ab46c5a1ba6fd2e50041a2",
       "version_major": 2,
       "version_minor": 0
      },
      "text/plain": [
       "  0%|          | 0/2 [00:00<?, ?it/s]"
      ]
     },
     "metadata": {},
     "output_type": "display_data"
    }
   ],
   "source": [
    "text_cols = [\"address\", \"url\", \"phone\", \"name\"]\n",
    "V_textcols = textcol_tfidf(df=df,\n",
    "                            cols=text_cols)\n",
    "\n",
    "V_cat = cat_tfidf(df=df)\n",
    "\n",
    "ids, match_ids, candidate_df = calc_essential_feats(df=df,\n",
    "                                                     indices=indices,\n",
    "                                                     distances=distances,\n",
    "                                                     textcol_tfidf=V_textcols,\n",
    "                                                     cat_tfidf=V_cat,\n",
    "                                                     train_mode=False)"
   ]
  },
  {
   "cell_type": "markdown",
   "id": "1af00f67",
   "metadata": {
    "papermill": {
     "duration": 0.018404,
     "end_time": "2022-06-04T07:51:44.119130",
     "exception": false,
     "start_time": "2022-06-04T07:51:44.100726",
     "status": "completed"
    },
    "tags": []
   },
   "source": [
    "## Extracting Word Similarity Stats\n",
    "We are using all cores in here. It affects the execution speed so much! ⚡"
   ]
  },
  {
   "cell_type": "code",
   "execution_count": 5,
   "id": "ee2ee11e",
   "metadata": {
    "execution": {
     "iopub.execute_input": "2022-06-04T07:51:44.158859Z",
     "iopub.status.busy": "2022-06-04T07:51:44.158380Z",
     "iopub.status.idle": "2022-06-04T07:51:46.128710Z",
     "shell.execute_reply": "2022-06-04T07:51:46.127862Z"
    },
    "papermill": {
     "duration": 1.99344,
     "end_time": "2022-06-04T07:51:46.130999",
     "exception": false,
     "start_time": "2022-06-04T07:51:44.137559",
     "status": "completed"
    },
    "tags": []
   },
   "outputs": [
    {
     "data": {
      "application/vnd.jupyter.widget-view+json": {
       "model_id": "8291e37b9bd94782ae573f5ea8580f16",
       "version_major": 2,
       "version_minor": 0
      },
      "text/plain": [
       "  0%|          | 0/5 [00:00<?, ?it/s]"
      ]
     },
     "metadata": {},
     "output_type": "display_data"
    }
   ],
   "source": [
    "STR_FE_COLS = ['name', 'categories']\n",
    "PAIR_COLS = ['name', 'categories']\n",
    "candidate_df = extract_features(candidate_df, PAIR_COLS)"
   ]
  },
  {
   "cell_type": "markdown",
   "id": "8ca19776",
   "metadata": {
    "papermill": {
     "duration": 0.019394,
     "end_time": "2022-06-04T07:51:46.170251",
     "exception": false,
     "start_time": "2022-06-04T07:51:46.150857",
     "status": "completed"
    },
    "tags": []
   },
   "source": [
    "## CV Prediction"
   ]
  },
  {
   "cell_type": "code",
   "execution_count": 6,
   "id": "719078ac",
   "metadata": {
    "execution": {
     "iopub.execute_input": "2022-06-04T07:51:46.211259Z",
     "iopub.status.busy": "2022-06-04T07:51:46.210722Z",
     "iopub.status.idle": "2022-06-04T07:52:01.164144Z",
     "shell.execute_reply": "2022-06-04T07:52:01.162452Z"
    },
    "papermill": {
     "duration": 14.976376,
     "end_time": "2022-06-04T07:52:01.166263",
     "exception": false,
     "start_time": "2022-06-04T07:51:46.189887",
     "status": "completed"
    },
    "tags": []
   },
   "outputs": [
    {
     "name": "stderr",
     "output_type": "stream",
     "text": [
      "100%|██████████| 7/7 [00:14<00:00,  2.13s/it]\n"
     ]
    },
    {
     "data": {
      "text/plain": [
       "array([0.5  , 0.525, 0.5  , 0.5  , 0.5  , 0.5  , 0.5  ])"
      ]
     },
     "execution_count": 6,
     "metadata": {},
     "output_type": "execute_result"
    }
   ],
   "source": [
    "def pred_w_model(foldnum, df_x):\n",
    "    model = CatBoostClassifier()\n",
    "    model.load_model(UTIL_PATH+'/cb_fold_'+str(foldnum))\n",
    "    pred = model.predict_proba(df_x)[:,1]\n",
    "    del model\n",
    "    gc_clear()\n",
    "    return pred\n",
    "\n",
    "preds = [pred_w_model(i, candidate_df) for i in tqdm(range(7))] \n",
    "thresholds = np.load(UTIL_PATH+\"/fold_threshs.npy\")\n",
    "thresholds"
   ]
  },
  {
   "cell_type": "markdown",
   "id": "299965d4",
   "metadata": {
    "papermill": {
     "duration": 0.02462,
     "end_time": "2022-06-04T07:52:01.217909",
     "exception": false,
     "start_time": "2022-06-04T07:52:01.193289",
     "status": "completed"
    },
    "tags": []
   },
   "source": [
    "## Voting with Threshold-Tuning"
   ]
  },
  {
   "cell_type": "code",
   "execution_count": 7,
   "id": "6f48eae8",
   "metadata": {
    "execution": {
     "iopub.execute_input": "2022-06-04T07:52:01.268274Z",
     "iopub.status.busy": "2022-06-04T07:52:01.267633Z",
     "iopub.status.idle": "2022-06-04T07:52:01.276632Z",
     "shell.execute_reply": "2022-06-04T07:52:01.275770Z"
    },
    "papermill": {
     "duration": 0.036556,
     "end_time": "2022-06-04T07:52:01.278892",
     "exception": false,
     "start_time": "2022-06-04T07:52:01.242336",
     "status": "completed"
    },
    "tags": []
   },
   "outputs": [],
   "source": [
    "candidate_df[\"pred\"] = (\n",
    "    np.mean(\n",
    "        [\n",
    "            (preds[pred_i] >= thresholds[pred_i]).astype(int)\n",
    "            for pred_i, pred in enumerate(preds)\n",
    "        ],\n",
    "        axis=0,\n",
    "    )\n",
    "    >= 0.5\n",
    ").astype(int)\n",
    "candidate_df['ids']=ids\n",
    "candidate_df['match_id']=match_ids"
   ]
  },
  {
   "cell_type": "markdown",
   "id": "70826855",
   "metadata": {
    "papermill": {
     "duration": 0.024249,
     "end_time": "2022-06-04T07:52:01.327422",
     "exception": false,
     "start_time": "2022-06-04T07:52:01.303173",
     "status": "completed"
    },
    "tags": []
   },
   "source": [
    "## Creating the submission"
   ]
  },
  {
   "cell_type": "code",
   "execution_count": 8,
   "id": "331cc8c0",
   "metadata": {
    "execution": {
     "iopub.execute_input": "2022-06-04T07:52:01.376092Z",
     "iopub.status.busy": "2022-06-04T07:52:01.375796Z",
     "iopub.status.idle": "2022-06-04T07:52:01.385183Z",
     "shell.execute_reply": "2022-06-04T07:52:01.384495Z"
    },
    "papermill": {
     "duration": 0.035824,
     "end_time": "2022-06-04T07:52:01.387095",
     "exception": false,
     "start_time": "2022-06-04T07:52:01.351271",
     "status": "completed"
    },
    "tags": []
   },
   "outputs": [],
   "source": [
    "pred_match_mask = candidate_df.pred==1\n",
    "matches_list = dict([(ids, list(groupby_df.match_id.values)) for ids, groupby_df in candidate_df[pred_match_mask].groupby(\"ids\")])"
   ]
  },
  {
   "cell_type": "code",
   "execution_count": 9,
   "id": "7852b6f3",
   "metadata": {
    "execution": {
     "iopub.execute_input": "2022-06-04T07:52:01.436168Z",
     "iopub.status.busy": "2022-06-04T07:52:01.435901Z",
     "iopub.status.idle": "2022-06-04T07:52:01.445239Z",
     "shell.execute_reply": "2022-06-04T07:52:01.444646Z"
    },
    "papermill": {
     "duration": 0.036201,
     "end_time": "2022-06-04T07:52:01.447145",
     "exception": false,
     "start_time": "2022-06-04T07:52:01.410944",
     "status": "completed"
    },
    "tags": []
   },
   "outputs": [],
   "source": [
    "subm_df=pd.read_csv(SUB_PATH)\n",
    "subm_df[\"matches\"] = np.nan"
   ]
  },
  {
   "cell_type": "code",
   "execution_count": 10,
   "id": "f1e8515e",
   "metadata": {
    "execution": {
     "iopub.execute_input": "2022-06-04T07:52:01.496489Z",
     "iopub.status.busy": "2022-06-04T07:52:01.496158Z",
     "iopub.status.idle": "2022-06-04T07:52:01.536398Z",
     "shell.execute_reply": "2022-06-04T07:52:01.535533Z"
    },
    "papermill": {
     "duration": 0.066866,
     "end_time": "2022-06-04T07:52:01.538408",
     "exception": false,
     "start_time": "2022-06-04T07:52:01.471542",
     "status": "completed"
    },
    "tags": []
   },
   "outputs": [
    {
     "data": {
      "application/vnd.jupyter.widget-view+json": {
       "model_id": "dc48f64aa6234e4191638e86252a3597",
       "version_major": 2,
       "version_minor": 0
      },
      "text/plain": [
       "  0%|          | 0/5 [00:00<?, ?it/s]"
      ]
     },
     "metadata": {},
     "output_type": "display_data"
    }
   ],
   "source": [
    "def set_setter(selected_id):\n",
    "    try:\n",
    "        return \" \".join(matches_list[selected_id])\n",
    "    except:\n",
    "        return \"\"\n",
    "\n",
    "subm_df['matches'] = subm_df['id'].progress_apply(lambda x: set_setter(x))"
   ]
  },
  {
   "cell_type": "markdown",
   "id": "19fc1a8d",
   "metadata": {
    "papermill": {
     "duration": 0.024239,
     "end_time": "2022-06-04T07:52:01.587308",
     "exception": false,
     "start_time": "2022-06-04T07:52:01.563069",
     "status": "completed"
    },
    "tags": []
   },
   "source": [
    "### Adding the self match"
   ]
  },
  {
   "cell_type": "code",
   "execution_count": 11,
   "id": "a679983c",
   "metadata": {
    "execution": {
     "iopub.execute_input": "2022-06-04T07:52:01.637235Z",
     "iopub.status.busy": "2022-06-04T07:52:01.636936Z",
     "iopub.status.idle": "2022-06-04T07:52:01.641798Z",
     "shell.execute_reply": "2022-06-04T07:52:01.641216Z"
    },
    "papermill": {
     "duration": 0.03209,
     "end_time": "2022-06-04T07:52:01.643399",
     "exception": false,
     "start_time": "2022-06-04T07:52:01.611309",
     "status": "completed"
    },
    "tags": []
   },
   "outputs": [],
   "source": [
    "subm_df['matches'] = subm_df['id'] + \" \" + subm_df['matches']"
   ]
  },
  {
   "cell_type": "markdown",
   "id": "d65ddaed",
   "metadata": {
    "papermill": {
     "duration": 0.023845,
     "end_time": "2022-06-04T07:52:01.691465",
     "exception": false,
     "start_time": "2022-06-04T07:52:01.667620",
     "status": "completed"
    },
    "tags": []
   },
   "source": [
    "## The submission"
   ]
  },
  {
   "cell_type": "code",
   "execution_count": 12,
   "id": "38d8d1b9",
   "metadata": {
    "execution": {
     "iopub.execute_input": "2022-06-04T07:52:01.741479Z",
     "iopub.status.busy": "2022-06-04T07:52:01.740711Z",
     "iopub.status.idle": "2022-06-04T07:52:01.753212Z",
     "shell.execute_reply": "2022-06-04T07:52:01.752501Z"
    },
    "papermill": {
     "duration": 0.039254,
     "end_time": "2022-06-04T07:52:01.754993",
     "exception": false,
     "start_time": "2022-06-04T07:52:01.715739",
     "status": "completed"
    },
    "tags": []
   },
   "outputs": [
    {
     "data": {
      "text/html": [
       "<div>\n",
       "<style scoped>\n",
       "    .dataframe tbody tr th:only-of-type {\n",
       "        vertical-align: middle;\n",
       "    }\n",
       "\n",
       "    .dataframe tbody tr th {\n",
       "        vertical-align: top;\n",
       "    }\n",
       "\n",
       "    .dataframe thead th {\n",
       "        text-align: right;\n",
       "    }\n",
       "</style>\n",
       "<table border=\"1\" class=\"dataframe\">\n",
       "  <thead>\n",
       "    <tr style=\"text-align: right;\">\n",
       "      <th></th>\n",
       "      <th>id</th>\n",
       "      <th>matches</th>\n",
       "    </tr>\n",
       "  </thead>\n",
       "  <tbody>\n",
       "    <tr>\n",
       "      <th>0</th>\n",
       "      <td>E_00001118ad0191</td>\n",
       "      <td>E_00001118ad0191</td>\n",
       "    </tr>\n",
       "    <tr>\n",
       "      <th>1</th>\n",
       "      <td>E_000020eb6fed40</td>\n",
       "      <td>E_000020eb6fed40</td>\n",
       "    </tr>\n",
       "    <tr>\n",
       "      <th>2</th>\n",
       "      <td>E_00002f98667edf</td>\n",
       "      <td>E_00002f98667edf</td>\n",
       "    </tr>\n",
       "    <tr>\n",
       "      <th>3</th>\n",
       "      <td>E_001b6bad66eb98</td>\n",
       "      <td>E_001b6bad66eb98 E_0283d9f61e569d</td>\n",
       "    </tr>\n",
       "    <tr>\n",
       "      <th>4</th>\n",
       "      <td>E_0283d9f61e569d</td>\n",
       "      <td>E_0283d9f61e569d E_001b6bad66eb98</td>\n",
       "    </tr>\n",
       "  </tbody>\n",
       "</table>\n",
       "</div>"
      ],
      "text/plain": [
       "                 id                            matches\n",
       "0  E_00001118ad0191                  E_00001118ad0191 \n",
       "1  E_000020eb6fed40                  E_000020eb6fed40 \n",
       "2  E_00002f98667edf                  E_00002f98667edf \n",
       "3  E_001b6bad66eb98  E_001b6bad66eb98 E_0283d9f61e569d\n",
       "4  E_0283d9f61e569d  E_0283d9f61e569d E_001b6bad66eb98"
      ]
     },
     "execution_count": 12,
     "metadata": {},
     "output_type": "execute_result"
    }
   ],
   "source": [
    "subm_df"
   ]
  },
  {
   "cell_type": "code",
   "execution_count": 13,
   "id": "d69337cb",
   "metadata": {
    "execution": {
     "iopub.execute_input": "2022-06-04T07:52:01.806956Z",
     "iopub.status.busy": "2022-06-04T07:52:01.806168Z",
     "iopub.status.idle": "2022-06-04T07:52:01.813288Z",
     "shell.execute_reply": "2022-06-04T07:52:01.812743Z"
    },
    "papermill": {
     "duration": 0.034306,
     "end_time": "2022-06-04T07:52:01.815092",
     "exception": false,
     "start_time": "2022-06-04T07:52:01.780786",
     "status": "completed"
    },
    "tags": []
   },
   "outputs": [],
   "source": [
    "subm_df.to_csv(\"submission.csv\", index=False)"
   ]
  }
 ],
 "metadata": {
  "kernelspec": {
   "display_name": "Python 3",
   "language": "python",
   "name": "python3"
  },
  "language_info": {
   "codemirror_mode": {
    "name": "ipython",
    "version": 3
   },
   "file_extension": ".py",
   "mimetype": "text/x-python",
   "name": "python",
   "nbconvert_exporter": "python",
   "pygments_lexer": "ipython3",
   "version": "3.7.12"
  },
  "papermill": {
   "default_parameters": {},
   "duration": 30.149544,
   "end_time": "2022-06-04T07:52:02.668087",
   "environment_variables": {},
   "exception": null,
   "input_path": "__notebook__.ipynb",
   "output_path": "__notebook__.ipynb",
   "parameters": {},
   "start_time": "2022-06-04T07:51:32.518543",
   "version": "2.3.4"
  },
  "widgets": {
   "application/vnd.jupyter.widget-state+json": {
    "state": {
     "00e10e16f4c84e099225970d414c1fad": {
      "model_module": "@jupyter-widgets/controls",
      "model_module_version": "1.5.0",
      "model_name": "HTMLModel",
      "state": {
       "_dom_classes": [],
       "_model_module": "@jupyter-widgets/controls",
       "_model_module_version": "1.5.0",
       "_model_name": "HTMLModel",
       "_view_count": null,
       "_view_module": "@jupyter-widgets/controls",
       "_view_module_version": "1.5.0",
       "_view_name": "HTMLView",
       "description": "",
       "description_tooltip": null,
       "layout": "IPY_MODEL_73cfde5d26584b4dbda8dcf3493ef081",
       "placeholder": "​",
       "style": "IPY_MODEL_a2b1ed1e63e14da3b9297accabee14c1",
       "value": "100%"
      }
     },
     "03acd322de074760b5bf45aba5f058d3": {
      "model_module": "@jupyter-widgets/controls",
      "model_module_version": "1.5.0",
      "model_name": "ProgressStyleModel",
      "state": {
       "_model_module": "@jupyter-widgets/controls",
       "_model_module_version": "1.5.0",
       "_model_name": "ProgressStyleModel",
       "_view_count": null,
       "_view_module": "@jupyter-widgets/base",
       "_view_module_version": "1.2.0",
       "_view_name": "StyleView",
       "bar_color": null,
       "description_width": ""
      }
     },
     "067e5258cbb647789467882cc285397f": {
      "model_module": "@jupyter-widgets/controls",
      "model_module_version": "1.5.0",
      "model_name": "ProgressStyleModel",
      "state": {
       "_model_module": "@jupyter-widgets/controls",
       "_model_module_version": "1.5.0",
       "_model_name": "ProgressStyleModel",
       "_view_count": null,
       "_view_module": "@jupyter-widgets/base",
       "_view_module_version": "1.2.0",
       "_view_name": "StyleView",
       "bar_color": null,
       "description_width": ""
      }
     },
     "0cd29cfe83c040daacf0df658f6d17ff": {
      "model_module": "@jupyter-widgets/base",
      "model_module_version": "1.2.0",
      "model_name": "LayoutModel",
      "state": {
       "_model_module": "@jupyter-widgets/base",
       "_model_module_version": "1.2.0",
       "_model_name": "LayoutModel",
       "_view_count": null,
       "_view_module": "@jupyter-widgets/base",
       "_view_module_version": "1.2.0",
       "_view_name": "LayoutView",
       "align_content": null,
       "align_items": null,
       "align_self": null,
       "border": null,
       "bottom": null,
       "display": null,
       "flex": null,
       "flex_flow": null,
       "grid_area": null,
       "grid_auto_columns": null,
       "grid_auto_flow": null,
       "grid_auto_rows": null,
       "grid_column": null,
       "grid_gap": null,
       "grid_row": null,
       "grid_template_areas": null,
       "grid_template_columns": null,
       "grid_template_rows": null,
       "height": null,
       "justify_content": null,
       "justify_items": null,
       "left": null,
       "margin": null,
       "max_height": null,
       "max_width": null,
       "min_height": null,
       "min_width": null,
       "object_fit": null,
       "object_position": null,
       "order": null,
       "overflow": null,
       "overflow_x": null,
       "overflow_y": null,
       "padding": null,
       "right": null,
       "top": null,
       "visibility": null,
       "width": null
      }
     },
     "0e2da30f43ef4e58b507b351180f07c1": {
      "model_module": "@jupyter-widgets/base",
      "model_module_version": "1.2.0",
      "model_name": "LayoutModel",
      "state": {
       "_model_module": "@jupyter-widgets/base",
       "_model_module_version": "1.2.0",
       "_model_name": "LayoutModel",
       "_view_count": null,
       "_view_module": "@jupyter-widgets/base",
       "_view_module_version": "1.2.0",
       "_view_name": "LayoutView",
       "align_content": null,
       "align_items": null,
       "align_self": null,
       "border": null,
       "bottom": null,
       "display": null,
       "flex": null,
       "flex_flow": null,
       "grid_area": null,
       "grid_auto_columns": null,
       "grid_auto_flow": null,
       "grid_auto_rows": null,
       "grid_column": null,
       "grid_gap": null,
       "grid_row": null,
       "grid_template_areas": null,
       "grid_template_columns": null,
       "grid_template_rows": null,
       "height": null,
       "justify_content": null,
       "justify_items": null,
       "left": null,
       "margin": null,
       "max_height": null,
       "max_width": null,
       "min_height": null,
       "min_width": null,
       "object_fit": null,
       "object_position": null,
       "order": null,
       "overflow": null,
       "overflow_x": null,
       "overflow_y": null,
       "padding": null,
       "right": null,
       "top": null,
       "visibility": null,
       "width": null
      }
     },
     "14ca9e8c90ab46c5a1ba6fd2e50041a2": {
      "model_module": "@jupyter-widgets/controls",
      "model_module_version": "1.5.0",
      "model_name": "HBoxModel",
      "state": {
       "_dom_classes": [],
       "_model_module": "@jupyter-widgets/controls",
       "_model_module_version": "1.5.0",
       "_model_name": "HBoxModel",
       "_view_count": null,
       "_view_module": "@jupyter-widgets/controls",
       "_view_module_version": "1.5.0",
       "_view_name": "HBoxView",
       "box_style": "",
       "children": [
        "IPY_MODEL_94954245336f44f9ab182a8885dca29f",
        "IPY_MODEL_6d2b2e30bae84b7e95cb72b8537a3e00",
        "IPY_MODEL_f37daf4659c847ab937d012ab809cbf3"
       ],
       "layout": "IPY_MODEL_f0620df52a4e433d96772c14f9cd2207"
      }
     },
     "1764555b74d3419ba5f65f70058f53b0": {
      "model_module": "@jupyter-widgets/base",
      "model_module_version": "1.2.0",
      "model_name": "LayoutModel",
      "state": {
       "_model_module": "@jupyter-widgets/base",
       "_model_module_version": "1.2.0",
       "_model_name": "LayoutModel",
       "_view_count": null,
       "_view_module": "@jupyter-widgets/base",
       "_view_module_version": "1.2.0",
       "_view_name": "LayoutView",
       "align_content": null,
       "align_items": null,
       "align_self": null,
       "border": null,
       "bottom": null,
       "display": null,
       "flex": null,
       "flex_flow": null,
       "grid_area": null,
       "grid_auto_columns": null,
       "grid_auto_flow": null,
       "grid_auto_rows": null,
       "grid_column": null,
       "grid_gap": null,
       "grid_row": null,
       "grid_template_areas": null,
       "grid_template_columns": null,
       "grid_template_rows": null,
       "height": null,
       "justify_content": null,
       "justify_items": null,
       "left": null,
       "margin": null,
       "max_height": null,
       "max_width": null,
       "min_height": null,
       "min_width": null,
       "object_fit": null,
       "object_position": null,
       "order": null,
       "overflow": null,
       "overflow_x": null,
       "overflow_y": null,
       "padding": null,
       "right": null,
       "top": null,
       "visibility": null,
       "width": null
      }
     },
     "1d2616164b2245bc905e2f7939f8b7c7": {
      "model_module": "@jupyter-widgets/base",
      "model_module_version": "1.2.0",
      "model_name": "LayoutModel",
      "state": {
       "_model_module": "@jupyter-widgets/base",
       "_model_module_version": "1.2.0",
       "_model_name": "LayoutModel",
       "_view_count": null,
       "_view_module": "@jupyter-widgets/base",
       "_view_module_version": "1.2.0",
       "_view_name": "LayoutView",
       "align_content": null,
       "align_items": null,
       "align_self": null,
       "border": null,
       "bottom": null,
       "display": null,
       "flex": null,
       "flex_flow": null,
       "grid_area": null,
       "grid_auto_columns": null,
       "grid_auto_flow": null,
       "grid_auto_rows": null,
       "grid_column": null,
       "grid_gap": null,
       "grid_row": null,
       "grid_template_areas": null,
       "grid_template_columns": null,
       "grid_template_rows": null,
       "height": null,
       "justify_content": null,
       "justify_items": null,
       "left": null,
       "margin": null,
       "max_height": null,
       "max_width": null,
       "min_height": null,
       "min_width": null,
       "object_fit": null,
       "object_position": null,
       "order": null,
       "overflow": null,
       "overflow_x": null,
       "overflow_y": null,
       "padding": null,
       "right": null,
       "top": null,
       "visibility": null,
       "width": null
      }
     },
     "1ec72ab9f9ef4e7ebc4cb9c90544422c": {
      "model_module": "@jupyter-widgets/controls",
      "model_module_version": "1.5.0",
      "model_name": "HTMLModel",
      "state": {
       "_dom_classes": [],
       "_model_module": "@jupyter-widgets/controls",
       "_model_module_version": "1.5.0",
       "_model_name": "HTMLModel",
       "_view_count": null,
       "_view_module": "@jupyter-widgets/controls",
       "_view_module_version": "1.5.0",
       "_view_name": "HTMLView",
       "description": "",
       "description_tooltip": null,
       "layout": "IPY_MODEL_c77614f3dfd2467cbe7910f84e2c8b2f",
       "placeholder": "​",
       "style": "IPY_MODEL_5270841193604fa59e40f368c1b66f7d",
       "value": " 5/5 [00:00&lt;00:00, 156.74it/s]"
      }
     },
     "32b8634ac5a949c1811994a8f6f3b1c2": {
      "model_module": "@jupyter-widgets/controls",
      "model_module_version": "1.5.0",
      "model_name": "DescriptionStyleModel",
      "state": {
       "_model_module": "@jupyter-widgets/controls",
       "_model_module_version": "1.5.0",
       "_model_name": "DescriptionStyleModel",
       "_view_count": null,
       "_view_module": "@jupyter-widgets/base",
       "_view_module_version": "1.2.0",
       "_view_name": "StyleView",
       "description_width": ""
      }
     },
     "33e8c82277ee48e0b55fd3f1f58cccc3": {
      "model_module": "@jupyter-widgets/controls",
      "model_module_version": "1.5.0",
      "model_name": "DescriptionStyleModel",
      "state": {
       "_model_module": "@jupyter-widgets/controls",
       "_model_module_version": "1.5.0",
       "_model_name": "DescriptionStyleModel",
       "_view_count": null,
       "_view_module": "@jupyter-widgets/base",
       "_view_module_version": "1.2.0",
       "_view_name": "StyleView",
       "description_width": ""
      }
     },
     "36577de7734f4398a62ee9b1cb36de97": {
      "model_module": "@jupyter-widgets/base",
      "model_module_version": "1.2.0",
      "model_name": "LayoutModel",
      "state": {
       "_model_module": "@jupyter-widgets/base",
       "_model_module_version": "1.2.0",
       "_model_name": "LayoutModel",
       "_view_count": null,
       "_view_module": "@jupyter-widgets/base",
       "_view_module_version": "1.2.0",
       "_view_name": "LayoutView",
       "align_content": null,
       "align_items": null,
       "align_self": null,
       "border": null,
       "bottom": null,
       "display": null,
       "flex": null,
       "flex_flow": null,
       "grid_area": null,
       "grid_auto_columns": null,
       "grid_auto_flow": null,
       "grid_auto_rows": null,
       "grid_column": null,
       "grid_gap": null,
       "grid_row": null,
       "grid_template_areas": null,
       "grid_template_columns": null,
       "grid_template_rows": null,
       "height": null,
       "justify_content": null,
       "justify_items": null,
       "left": null,
       "margin": null,
       "max_height": null,
       "max_width": null,
       "min_height": null,
       "min_width": null,
       "object_fit": null,
       "object_position": null,
       "order": null,
       "overflow": null,
       "overflow_x": null,
       "overflow_y": null,
       "padding": null,
       "right": null,
       "top": null,
       "visibility": null,
       "width": null
      }
     },
     "3be37c68e7fc43b298fcbceb210d9ac6": {
      "model_module": "@jupyter-widgets/controls",
      "model_module_version": "1.5.0",
      "model_name": "DescriptionStyleModel",
      "state": {
       "_model_module": "@jupyter-widgets/controls",
       "_model_module_version": "1.5.0",
       "_model_name": "DescriptionStyleModel",
       "_view_count": null,
       "_view_module": "@jupyter-widgets/base",
       "_view_module_version": "1.2.0",
       "_view_name": "StyleView",
       "description_width": ""
      }
     },
     "49ca1918882a45139bcf2900471cfe21": {
      "model_module": "@jupyter-widgets/base",
      "model_module_version": "1.2.0",
      "model_name": "LayoutModel",
      "state": {
       "_model_module": "@jupyter-widgets/base",
       "_model_module_version": "1.2.0",
       "_model_name": "LayoutModel",
       "_view_count": null,
       "_view_module": "@jupyter-widgets/base",
       "_view_module_version": "1.2.0",
       "_view_name": "LayoutView",
       "align_content": null,
       "align_items": null,
       "align_self": null,
       "border": null,
       "bottom": null,
       "display": null,
       "flex": null,
       "flex_flow": null,
       "grid_area": null,
       "grid_auto_columns": null,
       "grid_auto_flow": null,
       "grid_auto_rows": null,
       "grid_column": null,
       "grid_gap": null,
       "grid_row": null,
       "grid_template_areas": null,
       "grid_template_columns": null,
       "grid_template_rows": null,
       "height": null,
       "justify_content": null,
       "justify_items": null,
       "left": null,
       "margin": null,
       "max_height": null,
       "max_width": null,
       "min_height": null,
       "min_width": null,
       "object_fit": null,
       "object_position": null,
       "order": null,
       "overflow": null,
       "overflow_x": null,
       "overflow_y": null,
       "padding": null,
       "right": null,
       "top": null,
       "visibility": null,
       "width": null
      }
     },
     "4b1bb97a8c1043499c2cb1c3d761ee26": {
      "model_module": "@jupyter-widgets/controls",
      "model_module_version": "1.5.0",
      "model_name": "FloatProgressModel",
      "state": {
       "_dom_classes": [],
       "_model_module": "@jupyter-widgets/controls",
       "_model_module_version": "1.5.0",
       "_model_name": "FloatProgressModel",
       "_view_count": null,
       "_view_module": "@jupyter-widgets/controls",
       "_view_module_version": "1.5.0",
       "_view_name": "ProgressView",
       "bar_style": "success",
       "description": "",
       "description_tooltip": null,
       "layout": "IPY_MODEL_0cd29cfe83c040daacf0df658f6d17ff",
       "max": 5.0,
       "min": 0.0,
       "orientation": "horizontal",
       "style": "IPY_MODEL_bc9afb29ed26494096209ce3006ea7fd",
       "value": 5.0
      }
     },
     "5270841193604fa59e40f368c1b66f7d": {
      "model_module": "@jupyter-widgets/controls",
      "model_module_version": "1.5.0",
      "model_name": "DescriptionStyleModel",
      "state": {
       "_model_module": "@jupyter-widgets/controls",
       "_model_module_version": "1.5.0",
       "_model_name": "DescriptionStyleModel",
       "_view_count": null,
       "_view_module": "@jupyter-widgets/base",
       "_view_module_version": "1.2.0",
       "_view_name": "StyleView",
       "description_width": ""
      }
     },
     "54c016bd92b446e4bf2df689a3ffbf7b": {
      "model_module": "@jupyter-widgets/controls",
      "model_module_version": "1.5.0",
      "model_name": "HTMLModel",
      "state": {
       "_dom_classes": [],
       "_model_module": "@jupyter-widgets/controls",
       "_model_module_version": "1.5.0",
       "_model_name": "HTMLModel",
       "_view_count": null,
       "_view_module": "@jupyter-widgets/controls",
       "_view_module_version": "1.5.0",
       "_view_name": "HTMLView",
       "description": "",
       "description_tooltip": null,
       "layout": "IPY_MODEL_1d2616164b2245bc905e2f7939f8b7c7",
       "placeholder": "​",
       "style": "IPY_MODEL_d165fddf906b401e841f406ea97540c5",
       "value": " 5/5 [00:00&lt;00:00,  6.73it/s]"
      }
     },
     "617e5d04f2264f6797adac33ccec6827": {
      "model_module": "@jupyter-widgets/controls",
      "model_module_version": "1.5.0",
      "model_name": "FloatProgressModel",
      "state": {
       "_dom_classes": [],
       "_model_module": "@jupyter-widgets/controls",
       "_model_module_version": "1.5.0",
       "_model_name": "FloatProgressModel",
       "_view_count": null,
       "_view_module": "@jupyter-widgets/controls",
       "_view_module_version": "1.5.0",
       "_view_name": "ProgressView",
       "bar_style": "success",
       "description": "",
       "description_tooltip": null,
       "layout": "IPY_MODEL_69cad68aafb34572b382f8489bbbb27d",
       "max": 5.0,
       "min": 0.0,
       "orientation": "horizontal",
       "style": "IPY_MODEL_03acd322de074760b5bf45aba5f058d3",
       "value": 5.0
      }
     },
     "69cad68aafb34572b382f8489bbbb27d": {
      "model_module": "@jupyter-widgets/base",
      "model_module_version": "1.2.0",
      "model_name": "LayoutModel",
      "state": {
       "_model_module": "@jupyter-widgets/base",
       "_model_module_version": "1.2.0",
       "_model_name": "LayoutModel",
       "_view_count": null,
       "_view_module": "@jupyter-widgets/base",
       "_view_module_version": "1.2.0",
       "_view_name": "LayoutView",
       "align_content": null,
       "align_items": null,
       "align_self": null,
       "border": null,
       "bottom": null,
       "display": null,
       "flex": null,
       "flex_flow": null,
       "grid_area": null,
       "grid_auto_columns": null,
       "grid_auto_flow": null,
       "grid_auto_rows": null,
       "grid_column": null,
       "grid_gap": null,
       "grid_row": null,
       "grid_template_areas": null,
       "grid_template_columns": null,
       "grid_template_rows": null,
       "height": null,
       "justify_content": null,
       "justify_items": null,
       "left": null,
       "margin": null,
       "max_height": null,
       "max_width": null,
       "min_height": null,
       "min_width": null,
       "object_fit": null,
       "object_position": null,
       "order": null,
       "overflow": null,
       "overflow_x": null,
       "overflow_y": null,
       "padding": null,
       "right": null,
       "top": null,
       "visibility": null,
       "width": null
      }
     },
     "6d2b2e30bae84b7e95cb72b8537a3e00": {
      "model_module": "@jupyter-widgets/controls",
      "model_module_version": "1.5.0",
      "model_name": "FloatProgressModel",
      "state": {
       "_dom_classes": [],
       "_model_module": "@jupyter-widgets/controls",
       "_model_module_version": "1.5.0",
       "_model_name": "FloatProgressModel",
       "_view_count": null,
       "_view_module": "@jupyter-widgets/controls",
       "_view_module_version": "1.5.0",
       "_view_name": "ProgressView",
       "bar_style": "success",
       "description": "",
       "description_tooltip": null,
       "layout": "IPY_MODEL_49ca1918882a45139bcf2900471cfe21",
       "max": 2.0,
       "min": 0.0,
       "orientation": "horizontal",
       "style": "IPY_MODEL_067e5258cbb647789467882cc285397f",
       "value": 2.0
      }
     },
     "73cfde5d26584b4dbda8dcf3493ef081": {
      "model_module": "@jupyter-widgets/base",
      "model_module_version": "1.2.0",
      "model_name": "LayoutModel",
      "state": {
       "_model_module": "@jupyter-widgets/base",
       "_model_module_version": "1.2.0",
       "_model_name": "LayoutModel",
       "_view_count": null,
       "_view_module": "@jupyter-widgets/base",
       "_view_module_version": "1.2.0",
       "_view_name": "LayoutView",
       "align_content": null,
       "align_items": null,
       "align_self": null,
       "border": null,
       "bottom": null,
       "display": null,
       "flex": null,
       "flex_flow": null,
       "grid_area": null,
       "grid_auto_columns": null,
       "grid_auto_flow": null,
       "grid_auto_rows": null,
       "grid_column": null,
       "grid_gap": null,
       "grid_row": null,
       "grid_template_areas": null,
       "grid_template_columns": null,
       "grid_template_rows": null,
       "height": null,
       "justify_content": null,
       "justify_items": null,
       "left": null,
       "margin": null,
       "max_height": null,
       "max_width": null,
       "min_height": null,
       "min_width": null,
       "object_fit": null,
       "object_position": null,
       "order": null,
       "overflow": null,
       "overflow_x": null,
       "overflow_y": null,
       "padding": null,
       "right": null,
       "top": null,
       "visibility": null,
       "width": null
      }
     },
     "8291e37b9bd94782ae573f5ea8580f16": {
      "model_module": "@jupyter-widgets/controls",
      "model_module_version": "1.5.0",
      "model_name": "HBoxModel",
      "state": {
       "_dom_classes": [],
       "_model_module": "@jupyter-widgets/controls",
       "_model_module_version": "1.5.0",
       "_model_name": "HBoxModel",
       "_view_count": null,
       "_view_module": "@jupyter-widgets/controls",
       "_view_module_version": "1.5.0",
       "_view_name": "HBoxView",
       "box_style": "",
       "children": [
        "IPY_MODEL_00e10e16f4c84e099225970d414c1fad",
        "IPY_MODEL_4b1bb97a8c1043499c2cb1c3d761ee26",
        "IPY_MODEL_54c016bd92b446e4bf2df689a3ffbf7b"
       ],
       "layout": "IPY_MODEL_8b69b072278343249d4b573537fbf603"
      }
     },
     "8b69b072278343249d4b573537fbf603": {
      "model_module": "@jupyter-widgets/base",
      "model_module_version": "1.2.0",
      "model_name": "LayoutModel",
      "state": {
       "_model_module": "@jupyter-widgets/base",
       "_model_module_version": "1.2.0",
       "_model_name": "LayoutModel",
       "_view_count": null,
       "_view_module": "@jupyter-widgets/base",
       "_view_module_version": "1.2.0",
       "_view_name": "LayoutView",
       "align_content": null,
       "align_items": null,
       "align_self": null,
       "border": null,
       "bottom": null,
       "display": null,
       "flex": null,
       "flex_flow": null,
       "grid_area": null,
       "grid_auto_columns": null,
       "grid_auto_flow": null,
       "grid_auto_rows": null,
       "grid_column": null,
       "grid_gap": null,
       "grid_row": null,
       "grid_template_areas": null,
       "grid_template_columns": null,
       "grid_template_rows": null,
       "height": null,
       "justify_content": null,
       "justify_items": null,
       "left": null,
       "margin": null,
       "max_height": null,
       "max_width": null,
       "min_height": null,
       "min_width": null,
       "object_fit": null,
       "object_position": null,
       "order": null,
       "overflow": null,
       "overflow_x": null,
       "overflow_y": null,
       "padding": null,
       "right": null,
       "top": null,
       "visibility": null,
       "width": null
      }
     },
     "94954245336f44f9ab182a8885dca29f": {
      "model_module": "@jupyter-widgets/controls",
      "model_module_version": "1.5.0",
      "model_name": "HTMLModel",
      "state": {
       "_dom_classes": [],
       "_model_module": "@jupyter-widgets/controls",
       "_model_module_version": "1.5.0",
       "_model_name": "HTMLModel",
       "_view_count": null,
       "_view_module": "@jupyter-widgets/controls",
       "_view_module_version": "1.5.0",
       "_view_name": "HTMLView",
       "description": "",
       "description_tooltip": null,
       "layout": "IPY_MODEL_1764555b74d3419ba5f65f70058f53b0",
       "placeholder": "​",
       "style": "IPY_MODEL_33e8c82277ee48e0b55fd3f1f58cccc3",
       "value": "100%"
      }
     },
     "a2b1ed1e63e14da3b9297accabee14c1": {
      "model_module": "@jupyter-widgets/controls",
      "model_module_version": "1.5.0",
      "model_name": "DescriptionStyleModel",
      "state": {
       "_model_module": "@jupyter-widgets/controls",
       "_model_module_version": "1.5.0",
       "_model_name": "DescriptionStyleModel",
       "_view_count": null,
       "_view_module": "@jupyter-widgets/base",
       "_view_module_version": "1.2.0",
       "_view_name": "StyleView",
       "description_width": ""
      }
     },
     "bc9afb29ed26494096209ce3006ea7fd": {
      "model_module": "@jupyter-widgets/controls",
      "model_module_version": "1.5.0",
      "model_name": "ProgressStyleModel",
      "state": {
       "_model_module": "@jupyter-widgets/controls",
       "_model_module_version": "1.5.0",
       "_model_name": "ProgressStyleModel",
       "_view_count": null,
       "_view_module": "@jupyter-widgets/base",
       "_view_module_version": "1.2.0",
       "_view_name": "StyleView",
       "bar_color": null,
       "description_width": ""
      }
     },
     "c77614f3dfd2467cbe7910f84e2c8b2f": {
      "model_module": "@jupyter-widgets/base",
      "model_module_version": "1.2.0",
      "model_name": "LayoutModel",
      "state": {
       "_model_module": "@jupyter-widgets/base",
       "_model_module_version": "1.2.0",
       "_model_name": "LayoutModel",
       "_view_count": null,
       "_view_module": "@jupyter-widgets/base",
       "_view_module_version": "1.2.0",
       "_view_name": "LayoutView",
       "align_content": null,
       "align_items": null,
       "align_self": null,
       "border": null,
       "bottom": null,
       "display": null,
       "flex": null,
       "flex_flow": null,
       "grid_area": null,
       "grid_auto_columns": null,
       "grid_auto_flow": null,
       "grid_auto_rows": null,
       "grid_column": null,
       "grid_gap": null,
       "grid_row": null,
       "grid_template_areas": null,
       "grid_template_columns": null,
       "grid_template_rows": null,
       "height": null,
       "justify_content": null,
       "justify_items": null,
       "left": null,
       "margin": null,
       "max_height": null,
       "max_width": null,
       "min_height": null,
       "min_width": null,
       "object_fit": null,
       "object_position": null,
       "order": null,
       "overflow": null,
       "overflow_x": null,
       "overflow_y": null,
       "padding": null,
       "right": null,
       "top": null,
       "visibility": null,
       "width": null
      }
     },
     "d165fddf906b401e841f406ea97540c5": {
      "model_module": "@jupyter-widgets/controls",
      "model_module_version": "1.5.0",
      "model_name": "DescriptionStyleModel",
      "state": {
       "_model_module": "@jupyter-widgets/controls",
       "_model_module_version": "1.5.0",
       "_model_name": "DescriptionStyleModel",
       "_view_count": null,
       "_view_module": "@jupyter-widgets/base",
       "_view_module_version": "1.2.0",
       "_view_name": "StyleView",
       "description_width": ""
      }
     },
     "dc48f64aa6234e4191638e86252a3597": {
      "model_module": "@jupyter-widgets/controls",
      "model_module_version": "1.5.0",
      "model_name": "HBoxModel",
      "state": {
       "_dom_classes": [],
       "_model_module": "@jupyter-widgets/controls",
       "_model_module_version": "1.5.0",
       "_model_name": "HBoxModel",
       "_view_count": null,
       "_view_module": "@jupyter-widgets/controls",
       "_view_module_version": "1.5.0",
       "_view_name": "HBoxView",
       "box_style": "",
       "children": [
        "IPY_MODEL_fa65f52a2134499181c47c2f5b311bd3",
        "IPY_MODEL_617e5d04f2264f6797adac33ccec6827",
        "IPY_MODEL_1ec72ab9f9ef4e7ebc4cb9c90544422c"
       ],
       "layout": "IPY_MODEL_36577de7734f4398a62ee9b1cb36de97"
      }
     },
     "f0620df52a4e433d96772c14f9cd2207": {
      "model_module": "@jupyter-widgets/base",
      "model_module_version": "1.2.0",
      "model_name": "LayoutModel",
      "state": {
       "_model_module": "@jupyter-widgets/base",
       "_model_module_version": "1.2.0",
       "_model_name": "LayoutModel",
       "_view_count": null,
       "_view_module": "@jupyter-widgets/base",
       "_view_module_version": "1.2.0",
       "_view_name": "LayoutView",
       "align_content": null,
       "align_items": null,
       "align_self": null,
       "border": null,
       "bottom": null,
       "display": null,
       "flex": null,
       "flex_flow": null,
       "grid_area": null,
       "grid_auto_columns": null,
       "grid_auto_flow": null,
       "grid_auto_rows": null,
       "grid_column": null,
       "grid_gap": null,
       "grid_row": null,
       "grid_template_areas": null,
       "grid_template_columns": null,
       "grid_template_rows": null,
       "height": null,
       "justify_content": null,
       "justify_items": null,
       "left": null,
       "margin": null,
       "max_height": null,
       "max_width": null,
       "min_height": null,
       "min_width": null,
       "object_fit": null,
       "object_position": null,
       "order": null,
       "overflow": null,
       "overflow_x": null,
       "overflow_y": null,
       "padding": null,
       "right": null,
       "top": null,
       "visibility": null,
       "width": null
      }
     },
     "f37daf4659c847ab937d012ab809cbf3": {
      "model_module": "@jupyter-widgets/controls",
      "model_module_version": "1.5.0",
      "model_name": "HTMLModel",
      "state": {
       "_dom_classes": [],
       "_model_module": "@jupyter-widgets/controls",
       "_model_module_version": "1.5.0",
       "_model_name": "HTMLModel",
       "_view_count": null,
       "_view_module": "@jupyter-widgets/controls",
       "_view_module_version": "1.5.0",
       "_view_name": "HTMLView",
       "description": "",
       "description_tooltip": null,
       "layout": "IPY_MODEL_0e2da30f43ef4e58b507b351180f07c1",
       "placeholder": "​",
       "style": "IPY_MODEL_32b8634ac5a949c1811994a8f6f3b1c2",
       "value": " 2/2 [00:00&lt;00:00, 37.33it/s]"
      }
     },
     "f93f3a9ccfc64a3a9c5979bdf2011379": {
      "model_module": "@jupyter-widgets/base",
      "model_module_version": "1.2.0",
      "model_name": "LayoutModel",
      "state": {
       "_model_module": "@jupyter-widgets/base",
       "_model_module_version": "1.2.0",
       "_model_name": "LayoutModel",
       "_view_count": null,
       "_view_module": "@jupyter-widgets/base",
       "_view_module_version": "1.2.0",
       "_view_name": "LayoutView",
       "align_content": null,
       "align_items": null,
       "align_self": null,
       "border": null,
       "bottom": null,
       "display": null,
       "flex": null,
       "flex_flow": null,
       "grid_area": null,
       "grid_auto_columns": null,
       "grid_auto_flow": null,
       "grid_auto_rows": null,
       "grid_column": null,
       "grid_gap": null,
       "grid_row": null,
       "grid_template_areas": null,
       "grid_template_columns": null,
       "grid_template_rows": null,
       "height": null,
       "justify_content": null,
       "justify_items": null,
       "left": null,
       "margin": null,
       "max_height": null,
       "max_width": null,
       "min_height": null,
       "min_width": null,
       "object_fit": null,
       "object_position": null,
       "order": null,
       "overflow": null,
       "overflow_x": null,
       "overflow_y": null,
       "padding": null,
       "right": null,
       "top": null,
       "visibility": null,
       "width": null
      }
     },
     "fa65f52a2134499181c47c2f5b311bd3": {
      "model_module": "@jupyter-widgets/controls",
      "model_module_version": "1.5.0",
      "model_name": "HTMLModel",
      "state": {
       "_dom_classes": [],
       "_model_module": "@jupyter-widgets/controls",
       "_model_module_version": "1.5.0",
       "_model_name": "HTMLModel",
       "_view_count": null,
       "_view_module": "@jupyter-widgets/controls",
       "_view_module_version": "1.5.0",
       "_view_name": "HTMLView",
       "description": "",
       "description_tooltip": null,
       "layout": "IPY_MODEL_f93f3a9ccfc64a3a9c5979bdf2011379",
       "placeholder": "​",
       "style": "IPY_MODEL_3be37c68e7fc43b298fcbceb210d9ac6",
       "value": "100%"
      }
     }
    },
    "version_major": 2,
    "version_minor": 0
   }
  }
 },
 "nbformat": 4,
 "nbformat_minor": 5
}
